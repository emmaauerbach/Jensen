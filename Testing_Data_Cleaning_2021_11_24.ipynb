{
  "nbformat": 4,
  "nbformat_minor": 0,
  "metadata": {
    "colab": {
      "name": "Testing_Data_Cleaning_2021-11-24.ipynb",
      "provenance": [],
      "authorship_tag": "ABX9TyNxNO7Vyp0Zqb+5/1GvXr4D",
      "include_colab_link": true
    },
    "kernelspec": {
      "name": "python3",
      "display_name": "Python 3"
    },
    "language_info": {
      "name": "python"
    }
  },
  "cells": [
    {
      "cell_type": "markdown",
      "metadata": {
        "id": "view-in-github",
        "colab_type": "text"
      },
      "source": [
        "<a href=\"https://colab.research.google.com/github/emmaauerbach/Jensen/blob/main/Testing_Data_Cleaning_2021_11_24.ipynb\" target=\"_parent\"><img src=\"https://colab.research.google.com/assets/colab-badge.svg\" alt=\"Open In Colab\"/></a>"
      ]
    },
    {
      "cell_type": "markdown",
      "metadata": {
        "id": "mybQa9sdp6lF"
      },
      "source": [
        "\n",
        "1. Upload excel files into folder Testing_Files\n"
      ]
    },
    {
      "cell_type": "code",
      "metadata": {
        "id": "Wg1H3FP8--9q"
      },
      "source": [
        "!mkdir Out\n",
        "!mkdir Testing_Files"
      ],
      "execution_count": 1,
      "outputs": []
    },
    {
      "cell_type": "code",
      "metadata": {
        "id": "mLf-YT46pNpb"
      },
      "source": [
        "# import necessary libraries\n",
        "import pandas as pd\n",
        "import numpy as np\n",
        "import os\n",
        "import glob"
      ],
      "execution_count": 2,
      "outputs": []
    },
    {
      "cell_type": "code",
      "metadata": {
        "id": "iK0ykJFUTQc-",
        "colab": {
          "base_uri": "https://localhost:8080/"
        },
        "outputId": "5a9bd405-aabc-4500-d4cb-80ab7a6d6515"
      },
      "source": [
        "#whether it's Ag or PCR\n",
        "Ag_test = False\n",
        "\n",
        "\n",
        "#path = os.getcwd()\n",
        "path = \"/content/Testing_Files/\"\n",
        "xlsx_files = glob.glob(os.path.join(path, \"*.xlsx\"))\n",
        "\n",
        "counter = 0  \n",
        "  \n",
        "# loop over the list of xlsx files\n",
        "for f in xlsx_files:\n",
        "    #print file name at start\n",
        "    file_name = f.split('/')[-1]\n",
        "    file_name = file_name.split('.')[-2]\n",
        "    print('Starting:', file_name)\n",
        "\n",
        "    #determining the file type\n",
        "    file_type = file_name[:2]\n",
        "    print(file_type)\n",
        "    if file_type == \"PC\":\n",
        "      Ag_test = False\n",
        "      print(Ag_test)\n",
        "    elif file_type == \"Ag\":\n",
        "      Ag_test = True\n",
        "      print(Ag_test)\n",
        "    else:\n",
        "          raise Exception(\"Can't determine test type from the file name\")  \n",
        "\n",
        "    # read the xlsx file\n",
        "    df = pd.read_excel(f)\n",
        "    # Output with dates converted to YYYY-MM-DD\n",
        "    df[\"Specimen_Coll_Dt\"] = pd.to_datetime(df[\"Specimen_Coll_Dt\"]).dt.strftime(\"%Y-%m-%d\")\n",
        "    df[\"Birth_Dt\"] = pd.to_datetime(df[\"Birth_Dt\"], dayfirst=True).dt.strftime(\"%Y-%m-%d\")\n",
        "    df[\"Lab_Report_Dt\"] = pd.to_datetime(df[\"Lab_Report_Dt\"]).dt.strftime(\"%Y-%m-%d\")\n",
        "\n",
        "    #change data types\n",
        "    df[\"Testing_Lab_Accession_Number\"] = df[\"Testing_Lab_Accession_Number\"].astype(str)\n",
        "\n",
        "    #add test type col\n",
        "    if Ag_test:\n",
        "      df['test_type'] = \"Ag\"\n",
        "    else:\n",
        "      df['test_type'] = \"PCR\" \n",
        "\n",
        "\n",
        "    #check if Ordered_Test_Desc is there\n",
        "    if 'Ordered_Test_Desc' not in df:\n",
        "      df.rename(columns = {'Resulted_Test_Desc':'Ordered_Test_Desc'}, inplace = True)\n",
        "\n",
        "    #check if the address columns are there\n",
        "    if 'Ordering_Facility_Address_One' not in df:\n",
        "      df['Ordering_Facility_Address_One'] = \"Address not provided in the ELR message\"\n",
        "      df['Ordering_Facility_City'] = np.nan\n",
        "      df['Ordering_Facility_State'] = np.nan\n",
        "      df['Ordering_Facility_Zip_Cd'] = np.nan\n",
        "\n",
        "    #format zips \n",
        "    #remove zip+4s and just leave 5 digit zips\n",
        "    df[\"Ordering_Facility_Zip_Cd\"] = df[\"Ordering_Facility_Zip_Cd\"].astype(str).str[:5]\n",
        "    df['Zip_Code'] = df['Zip_Code'].astype(str).str[:5]\n",
        "    #add source_file\n",
        "    df['Source_File'] = file_name\n",
        "    \n",
        "    #reorder cols  \n",
        "    columnsTitles = ['Zip_Code', 'Birth_Dt', 'Current_Sex_Cd', 'PATIENT_RACE_CALC', 'PATIENT_ETHNICITY', 'Testing_Lab_Accession_Number', 'Specimen_Coll_Dt', 'Lab_Report_Dt', 'Ordered_Test_Desc', 'Ordering_Facility_Name', 'Ordering_Provider_First_Name', 'Ordering_Provider_Last_Name', 'Perform_Facility_Name', 'Result_Category', 'Source_File', 'Ordering_Facility_Address_One', 'Ordering_Facility_City', 'Ordering_Facility_State', 'Ordering_Facility_Zip_Cd', 'test_type']\n",
        "    df = df.reindex(columns=columnsTitles)\n",
        "      \n",
        "    #print at end\n",
        "    print('Finished:', file_name)\n",
        "    print(counter)\n",
        "    counter += 1 \n",
        "\n",
        "    df.to_csv(\"/content/Out/\"+file_name+\".csv\", index=False )"
      ],
      "execution_count": 4,
      "outputs": [
        {
          "output_type": "stream",
          "name": "stdout",
          "text": [
            "Starting: Ag ELRs received 12-02-21\n",
            "Ag\n",
            "True\n",
            "Finished: Ag ELRs received 12-02-21\n",
            "0\n",
            "Starting: PCR ELRs received 12-02-21\n",
            "PC\n",
            "False\n",
            "Finished: PCR ELRs received 12-02-21\n",
            "1\n"
          ]
        }
      ]
    },
    {
      "cell_type": "code",
      "metadata": {
        "id": "wQUBih2Hq4Uy",
        "colab": {
          "base_uri": "https://localhost:8080/"
        },
        "outputId": "8b3dd457-520a-4754-efc6-c4e4c4673c3a"
      },
      "source": [
        "#save the CSVs into one zip to download \n",
        "\n",
        "!zip -r tests.zip /content/Out\n",
        "\n",
        "\n",
        "\n"
      ],
      "execution_count": 5,
      "outputs": [
        {
          "output_type": "stream",
          "name": "stdout",
          "text": [
            "  adding: content/Out/ (stored 0%)\n",
            "  adding: content/Out/PCR ELRs received 12-02-21.csv (deflated 85%)\n",
            "  adding: content/Out/Ag ELRs received 12-02-21.csv (deflated 88%)\n"
          ]
        }
      ]
    },
    {
      "cell_type": "code",
      "metadata": {
        "id": "yX59W_wKyfWu"
      },
      "source": [
        "#clean out the folders\n",
        "!rm /content/Testing_Files/*\n",
        "!rm /content/Out/*\n"
      ],
      "execution_count": 7,
      "outputs": []
    }
  ]
}