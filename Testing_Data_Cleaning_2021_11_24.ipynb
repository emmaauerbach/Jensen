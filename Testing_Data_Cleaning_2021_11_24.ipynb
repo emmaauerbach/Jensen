{
  "nbformat": 4,
  "nbformat_minor": 0,
  "metadata": {
    "colab": {
      "name": "Testing_Data_Cleaning_2021-11-24.ipynb",
      "provenance": [],
      "authorship_tag": "ABX9TyNjb4fyB59cAWVFZejiR4qE",
      "include_colab_link": true
    },
    "kernelspec": {
      "name": "python3",
      "display_name": "Python 3"
    },
    "language_info": {
      "name": "python"
    }
  },
  "cells": [
    {
      "cell_type": "markdown",
      "metadata": {
        "id": "view-in-github",
        "colab_type": "text"
      },
      "source": [
        "<a href=\"https://colab.research.google.com/github/emmaauerbach/Jensen/blob/main/Testing_Data_Cleaning_2021_11_24.ipynb\" target=\"_parent\"><img src=\"https://colab.research.google.com/assets/colab-badge.svg\" alt=\"Open In Colab\"/></a>"
      ]
    },
    {
      "cell_type": "markdown",
      "metadata": {
        "id": "mybQa9sdp6lF"
      },
      "source": [
        "\n",
        "\n",
        "1. Create two folders Out and Testing_Files\n",
        "2. Upload data from 'Reload Testing Files' into Testing_Files(can only do one type at a time: PCR or Ag)\n",
        "3. Swith Ag_test variable to true or false\n"
      ]
    },
    {
      "cell_type": "code",
      "metadata": {
        "id": "Wg1H3FP8--9q"
      },
      "source": [
        "!mkdir Out\n",
        "!mkdir Testing_Files"
      ],
      "execution_count": 65,
      "outputs": []
    },
    {
      "cell_type": "code",
      "metadata": {
        "id": "mLf-YT46pNpb"
      },
      "source": [
        "# import necessary libraries\n",
        "import pandas as pd\n",
        "import numpy as np\n",
        "import os\n",
        "import glob\n",
        "# Read the file and specify which column is the date\n",
        "#df = pd.read_excel(\"/content/Testing_Files/Ag ELRs received 11-22-21.xlsx\")\n"
      ],
      "execution_count": 66,
      "outputs": []
    },
    {
      "cell_type": "code",
      "metadata": {
        "id": "iK0ykJFUTQc-"
      },
      "source": [
        "#set whether it's Ag or PCR\n",
        "Ag_test = False\n",
        "\n",
        "\n",
        "#path = os.getcwd()\n",
        "path = \"/content/Testing_Files/\"\n",
        "xlsx_files = glob.glob(os.path.join(path, \"*.xlsx\"))\n",
        "\n",
        "counter = 0  \n",
        "  \n",
        "# loop over the list of xlsx files\n",
        "for f in xlsx_files:\n",
        "    #print file name at start\n",
        "    file_name = f.split('/')[-1]\n",
        "    file_name = file_name.split('.')[-2]\n",
        "    print('Starting:', file_name)  \n",
        "\n",
        "    # read the xlsx file\n",
        "    df = pd.read_excel(f)\n",
        "    # Output with dates converted to YYYY-MM-DD\n",
        "    df[\"Specimen_Coll_Dt\"] = pd.to_datetime(df[\"Specimen_Coll_Dt\"]).dt.strftime(\"%Y-%m-%d\")\n",
        "    df[\"Birth_Dt\"] = pd.to_datetime(df[\"Birth_Dt\"], dayfirst=True).dt.strftime(\"%Y-%m-%d\")\n",
        "    df[\"Lab_Report_Dt\"] = pd.to_datetime(df[\"Lab_Report_Dt\"]).dt.strftime(\"%Y-%m-%d\")\n",
        "\n",
        "\n",
        "    #change data types\n",
        "    df[\"Testing_Lab_Accession_Number\"] = df[\"Testing_Lab_Accession_Number\"].astype(str)\n",
        "\n",
        "\n",
        "    #add test type col\n",
        "    if Ag_test:\n",
        "      df['test_type'] = \"Ag\"\n",
        "    else:\n",
        "      df['test_type'] = \"PCR\" \n",
        "\n",
        "\n",
        "    #check if Ordered_Test_Desc is there\n",
        "    if 'Ordered_Test_Desc' not in df:\n",
        "      df.rename(columns = {'Resulted_Test_Desc':'Ordered_Test_Desc'}, inplace = True)\n",
        "\n",
        "    #check if the address columns are there\n",
        "    if 'Ordering_Facility_Address_One' not in df:\n",
        "      df['Ordering_Facility_Address_One'] = \"Address not provided in the ELR message\"\n",
        "      df['Ordering_Facility_City'] = np.nan\n",
        "      df['Ordering_Facility_State'] = np.nan\n",
        "      df['Ordering_Facility_Zip_Cd'] = np.nan\n",
        "\n",
        "    #format zips \n",
        "    #remove zip+4s and just leave 5 digit zips\n",
        "    df[\"Ordering_Facility_Zip_Cd\"] = df[\"Ordering_Facility_Zip_Cd\"].astype(str).str[:5]\n",
        "    df['Zip_Code'] = df['Zip_Code'].astype(str).str[:5]\n",
        "    #add source_file\n",
        "    df['Source_File'] = file_name\n",
        "    \n",
        "    #reorder cols  \n",
        "    columnsTitles = ['Zip_Code', 'Birth_Dt', 'Current_Sex_Cd', 'PATIENT_RACE_CALC', 'PATIENT_ETHNICITY', 'Testing_Lab_Accession_Number', 'Specimen_Coll_Dt', 'Lab_Report_Dt', 'Ordered_Test_Desc', 'Ordering_Facility_Name', 'Ordering_Provider_First_Name', 'Ordering_Provider_Last_Name', 'Perform_Facility_Name', 'Result_Category', 'Source_File', 'Ordering_Facility_Address_One', 'Ordering_Facility_City', 'Ordering_Facility_State', 'Ordering_Facility_Zip_Cd', 'test_type']\n",
        "    df = df.reindex(columns=columnsTitles)\n",
        "      \n",
        "\n",
        "    #print at end\n",
        "    print('Finished:', file_name)\n",
        "    print(counter)\n",
        "    counter += 1 \n",
        "\n",
        "\n",
        "    df.to_csv(\"/content/Out/\"+file_name+\".csv\", index=False )"
      ],
      "execution_count": 67,
      "outputs": []
    },
    {
      "cell_type": "code",
      "metadata": {
        "id": "wQUBih2Hq4Uy",
        "colab": {
          "base_uri": "https://localhost:8080/"
        },
        "outputId": "e0ea52b2-b989-4b6d-c816-9f99044bc4e4"
      },
      "source": [
        "#save the CSVs into one zip to download \n",
        "if Ag_test:\n",
        "  !zip -r ag_tests.zip /content/Out\n",
        "else:\n",
        "  !zip -r pcr_tests.zip /content/Out\n",
        "\n",
        "\n"
      ],
      "execution_count": 69,
      "outputs": [
        {
          "output_type": "stream",
          "name": "stdout",
          "text": [
            "\tzip warning: name not matched: /content/Out\n",
            "\n",
            "zip error: Nothing to do! (try: zip -r pcr_tests.zip . -i /content/Out)\n"
          ]
        }
      ]
    },
    {
      "cell_type": "code",
      "metadata": {
        "id": "yX59W_wKyfWu"
      },
      "source": [
        "#clean out the folders\n",
        "!rm /content/Testing_Files/*\n",
        "!rm /content/Out/*\n"
      ],
      "execution_count": 45,
      "outputs": []
    }
  ]
}